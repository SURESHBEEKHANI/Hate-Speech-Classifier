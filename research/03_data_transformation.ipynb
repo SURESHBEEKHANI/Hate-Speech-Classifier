{
 "cells": [
  {
   "cell_type": "code",
   "execution_count": 1,
   "metadata": {},
   "outputs": [],
   "source": [
    "import os"
   ]
  },
  {
   "cell_type": "code",
   "execution_count": 2,
   "metadata": {},
   "outputs": [
    {
     "data": {
      "text/plain": [
       "'d:\\\\Hate-Speech-Classifier\\\\research'"
      ]
     },
     "execution_count": 2,
     "metadata": {},
     "output_type": "execute_result"
    }
   ],
   "source": [
    "%pwd"
   ]
  },
  {
   "cell_type": "code",
   "execution_count": 3,
   "metadata": {},
   "outputs": [],
   "source": [
    "os.chdir(\"../\")"
   ]
  },
  {
   "cell_type": "code",
   "execution_count": 4,
   "metadata": {},
   "outputs": [
    {
     "data": {
      "text/plain": [
       "'d:\\\\Hate-Speech-Classifier'"
      ]
     },
     "execution_count": 4,
     "metadata": {},
     "output_type": "execute_result"
    }
   ],
   "source": [
    "%pwd"
   ]
  },
  {
   "cell_type": "code",
   "execution_count": 5,
   "metadata": {},
   "outputs": [],
   "source": [
    "from dataclasses import dataclass\n",
    "from pathlib import Path\n",
    "\n",
    "\n",
    "@dataclass(frozen=True)\n",
    "class DataTransformationConfig:\n",
    "    root_dir: Path\n",
    "    data_path: Path"
   ]
  },
  {
   "cell_type": "code",
   "execution_count": 6,
   "metadata": {},
   "outputs": [],
   "source": [
    "from textClassification.constants import *\n",
    "from textClassification.utils.common import read_yaml, create_directories"
   ]
  },
  {
   "cell_type": "code",
   "execution_count": 7,
   "metadata": {},
   "outputs": [],
   "source": [
    "class ConfigurationManager:\n",
    "    def __init__(\n",
    "        self,\n",
    "        config_filepath = CONFIG_FILE_PATH,\n",
    "        params_filepath = PARAMS_FILE_PATH):\n",
    "\n",
    "        self.config = read_yaml(config_filepath)\n",
    "        self.params = read_yaml(params_filepath)\n",
    "\n",
    "        create_directories([self.config.artifacts_root])\n",
    "\n",
    "\n",
    "    \n",
    "    def get_data_transformation_config(self) -> DataTransformationConfig:\n",
    "        config = self.config.data_transformation\n",
    "\n",
    "        create_directories([config.root_dir])\n",
    "\n",
    "        data_transformation_config = DataTransformationConfig(\n",
    "            root_dir=config.root_dir,\n",
    "            data_path=config.data_path,\n",
    "        )\n",
    "\n",
    "        return data_transformation_config\n"
   ]
  },
  {
   "cell_type": "code",
   "execution_count": 8,
   "metadata": {},
   "outputs": [
    {
     "name": "stderr",
     "output_type": "stream",
     "text": [
      "[nltk_data] Downloading package stopwords to C:\\Users\\SURESH\n",
      "[nltk_data]     BEEKHANI\\AppData\\Roaming\\nltk_data...\n",
      "[nltk_data]   Package stopwords is already up-to-date!\n"
     ]
    },
    {
     "data": {
      "text/plain": [
       "True"
      ]
     },
     "execution_count": 8,
     "metadata": {},
     "output_type": "execute_result"
    }
   ],
   "source": [
    "import pandas as pd\n",
    "import nltk\n",
    "import re\n",
    "import string\n",
    "from nltk.corpus import stopwords\n",
    "from sklearn.model_selection import train_test_split\n",
    "nltk.download('stopwords')"
   ]
  },
  {
   "cell_type": "code",
   "execution_count": 9,
   "metadata": {},
   "outputs": [],
   "source": [
    "class DataTransformation:\n",
    "    def __init__(self, config: DataTransformationConfig):\n",
    "        self.config = config\n",
    "        self.stemmer = nltk.SnowballStemmer(\"english\")\n",
    "        self.stopword = set(stopwords.words('english'))\n",
    "\n",
    "    \n",
    "    # Let's apply regex and do cleaning.\n",
    "    def data_cleaning(self,words):\n",
    "        words = str(words).lower()\n",
    "        words = re.sub('\\[.*?\\]', '', words)\n",
    "        words = re.sub('https?://\\S+|www\\.\\S+', '', words)\n",
    "        words = re.sub('<.*?>+', '', words)\n",
    "        words = re.sub('[%s]' % re.escape(string.punctuation), '', words)\n",
    "        words = re.sub('\\n', '', words)\n",
    "        words = re.sub('\\w*\\d\\w*', '', words)\n",
    "        words = [word for word in words.split(' ') if words not in self.stopword]\n",
    "        words=\" \".join(words)\n",
    "        words = [self.stemmer.stem(words) for word in words.split(' ')]\n",
    "        words=\" \".join(words)\n",
    "\n",
    "        return words\n",
    "    \n",
    "\n",
    "    def clean_and_transform(self):\n",
    "        imbalance_data = pd.read_csv(os.path.join(self.config.data_path,\"imbalanced_data.csv\"))\n",
    "        imbalance_data.drop('id', axis=1, inplace=True)\n",
    "\n",
    "        raw_data = pd.read_csv(os.path.join(self.config.data_path,\"raw_data.csv\"))\n",
    "        raw_data.drop(['Unnamed: 0','count','hate_speech','offensive_language','neither'], axis=1, inplace=True)\n",
    "        raw_data[raw_data['class'] == 0][\"class\"]=1\n",
    "        raw_data[\"class\"].replace({0:1},inplace=True)\n",
    "        raw_data[\"class\"].replace({2:0}, inplace = True)\n",
    "        raw_data.rename(columns={'class':'label'},inplace =True)\n",
    "\n",
    "        frame = [imbalance_data, raw_data]\n",
    "        df = pd.concat(frame)\n",
    "\n",
    "\n",
    "        df['tweet']=df['tweet'].apply(self.data_cleaning)\n",
    "\n",
    "        df.to_csv(os.path.join(self.config.root_dir,'main_df.csv'), index=False)\n"
   ]
  },
  {
   "cell_type": "code",
   "execution_count": 10,
   "metadata": {},
   "outputs": [
    {
     "name": "stdout",
     "output_type": "stream",
     "text": [
      "[2025-01-05 17:44:11,982: INFO: common: yaml file: config\\config.yaml loaded successfully]\n",
      "[2025-01-05 17:44:11,994: INFO: common: yaml file: params.yaml loaded successfully]\n",
      "[2025-01-05 17:44:11,998: INFO: common: created directory at: artifacts]\n",
      "[2025-01-05 17:44:11,998: INFO: common: created directory at: artifacts/data_transformation]\n"
     ]
    },
    {
     "name": "stderr",
     "output_type": "stream",
     "text": [
      "C:\\Users\\SURESH BEEKHANI\\AppData\\Local\\Temp\\ipykernel_13068\\3823594867.py:31: SettingWithCopyWarning: \n",
      "A value is trying to be set on a copy of a slice from a DataFrame.\n",
      "Try using .loc[row_indexer,col_indexer] = value instead\n",
      "\n",
      "See the caveats in the documentation: https://pandas.pydata.org/pandas-docs/stable/user_guide/indexing.html#returning-a-view-versus-a-copy\n",
      "  raw_data[raw_data['class'] == 0][\"class\"]=1\n",
      "C:\\Users\\SURESH BEEKHANI\\AppData\\Local\\Temp\\ipykernel_13068\\3823594867.py:32: FutureWarning: A value is trying to be set on a copy of a DataFrame or Series through chained assignment using an inplace method.\n",
      "The behavior will change in pandas 3.0. This inplace method will never work because the intermediate object on which we are setting values always behaves as a copy.\n",
      "\n",
      "For example, when doing 'df[col].method(value, inplace=True)', try using 'df.method({col: value}, inplace=True)' or df[col] = df[col].method(value) instead, to perform the operation inplace on the original object.\n",
      "\n",
      "\n",
      "  raw_data[\"class\"].replace({0:1},inplace=True)\n",
      "C:\\Users\\SURESH BEEKHANI\\AppData\\Local\\Temp\\ipykernel_13068\\3823594867.py:33: FutureWarning: A value is trying to be set on a copy of a DataFrame or Series through chained assignment using an inplace method.\n",
      "The behavior will change in pandas 3.0. This inplace method will never work because the intermediate object on which we are setting values always behaves as a copy.\n",
      "\n",
      "For example, when doing 'df[col].method(value, inplace=True)', try using 'df.method({col: value}, inplace=True)' or df[col] = df[col].method(value) instead, to perform the operation inplace on the original object.\n",
      "\n",
      "\n",
      "  raw_data[\"class\"].replace({2:0}, inplace = True)\n"
     ]
    }
   ],
   "source": [
    "try:\n",
    "    config = ConfigurationManager()\n",
    "    data_transformation_config = config.get_data_transformation_config()\n",
    "    data_transformation = DataTransformation(config=data_transformation_config)\n",
    "    data_transformation.clean_and_transform()\n",
    "except Exception as e:\n",
    "    raise e"
   ]
  },
  {
   "cell_type": "code",
   "execution_count": null,
   "metadata": {},
   "outputs": [],
   "source": []
  }
 ],
 "metadata": {
  "kernelspec": {
   "display_name": "Python 3",
   "language": "python",
   "name": "python3"
  },
  "language_info": {
   "codemirror_mode": {
    "name": "ipython",
    "version": 3
   },
   "file_extension": ".py",
   "mimetype": "text/x-python",
   "name": "python",
   "nbconvert_exporter": "python",
   "pygments_lexer": "ipython3",
   "version": "3.10.16"
  },
  "orig_nbformat": 4
 },
 "nbformat": 4,
 "nbformat_minor": 2
}
